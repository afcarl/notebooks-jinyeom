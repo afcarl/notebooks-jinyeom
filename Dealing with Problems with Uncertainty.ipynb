{
 "cells": [
  {
   "cell_type": "markdown",
   "metadata": {},
   "source": [
    "# Dealing with Problems with Uncertainty\n",
    "Author: Jin Yeom (jinyeom@utexas.edu)\n",
    "\n",
    "In this notebook, we're going to explore AI methods based on the probability theory for solving problems with uncertainty. We'll first look at Bayesian Networks (or Belief Networks), Hidden Markov Models (HMMs), then finally Decision Networks. **Note**: this notebook is based on Dr. Scott Niekum's lecture on Artificial Intelligence (CS343) from the University of Texas at Austin. **Also note**: this notebook will assume some knowledge in the probability theory, and will not go over details in basic probability."
   ]
  },
  {
   "cell_type": "markdown",
   "metadata": {},
   "source": [
    "## Bayesian Network\n",
    "As the name suggests, the Bayesian network (BNs, or sometimes called belief network or Bayes nets) is based on Bayes' rule:\n",
    "\n",
    "$$P(X|Y) = \\frac{P(Y|X)P(X)}{P(Y)}$$\n",
    "\n",
    "where $X$ and $Y$ are both random variables. It is also called a network, due to its representation, i.e., all the possible events are represented as nodes in a directed acyclic graph with their likelihoods, and are connected with each other based on assumed direct influences, or **conditional dependences**. Essentially, the network altogether models some part of the real world.\n",
    "\n",
    "Bayes nets are composed of the topology of the network, which is often designed by hand, and tables for local conditional probabilities (Conditional Probability Tables, or CPTs), computed from data of event counts. For this notebook, we're not going to construct a Bayes net, and use a hypothetical one, found in Dr. Niekum's lecture."
   ]
  },
  {
   "cell_type": "markdown",
   "metadata": {},
   "source": [
    "Let's look at a simple example. Consider 5 events $B = \\text{\\{Burglary\\}}$, $A = \\text{\\{Alarm goes off\\}}$, $M = \\text{\\{Mary calls\\}}$, $J = \\text{\\{John calls\\}}$, $E = \\text{\\{Earthquake!\\}}$."
   ]
  },
  {
   "cell_type": "code",
   "execution_count": 8,
   "metadata": {},
   "outputs": [
    {
     "data": {
      "image/png": "[encoded data removed]",
      "text/plain": [
       "<matplotlib.figure.Figure at 0x7fbcc3d06a20>"
      ]
     },
     "metadata": {},
     "output_type": "display_data"
    }
   ],
   "source": [
    "import numpy as np\n",
    "import networkx as nx\n",
    "from matplotlib import pyplot as plt\n",
    "%matplotlib inline\n",
    "\n",
    "N = [\"B\", \"A\", \"M\", \"J\", \"E\"]\n",
    "E = [(\"B\", \"A\"), (\"E\", \"A\"), (\"A\", \"M\"), (\"A\", \"J\")]\n",
    "\n",
    "G = nx.DiGraph()\n",
    "G.add_nodes_from(N)\n",
    "G.add_edges_from(E)\n",
    "nx.draw(G, with_labels=True)\n",
    "plt.show()"
   ]
  },
  {
   "cell_type": "code",
   "execution_count": 9,
   "metadata": {},
   "outputs": [],
   "source": [
    "# Probabilities computed from observed data.\n",
    "# We know how often burglaries and earthquakes have happened, and that the alarm went off\n",
    "# every time either a burglary or an earthquake happened, and finally, that Mary or John\n",
    "# called when the alarm went off. All the occurances of events mentioned are recorded, and\n",
    "# were used to compute their probabilities.\n",
    "P = {\n",
    "    \"B\": {\n",
    "        \"+b\": 0.001,\n",
    "        \"-b\": 0.999,\n",
    "    },\n",
    "    \"E\": {\n",
    "        \"+e\": 0.002,\n",
    "        \"-e\": 0.998,\n",
    "    },\n",
    "    \"J|A\": {\n",
    "        (\"+a\", \"+j\"): 0.9,\n",
    "        (\"+a\", \"-j\"): 0.1,\n",
    "        (\"-a\", \"+j\"): 0.05,\n",
    "        (\"-a\", \"-j\"): 0.95,\n",
    "    },\n",
    "    \"M|A\": {\n",
    "        (\"+a\", \"+m\"): 0.7,\n",
    "        (\"+a\", \"-m\"): 0.3,\n",
    "        (\"-a\", \"+m\"): 0.01,\n",
    "        (\"-a\", \"-m\"): 0.99,\n",
    "    },\n",
    "    \"A|B,E\": {\n",
    "        (\"+b\", \"+e\", \"+a\"): 0.95,\n",
    "        (\"+b\", \"+e\", \"-a\"): 0.05,\n",
    "        (\"+b\", \"-e\", \"+a\"): 0.94,\n",
    "        (\"+b\", \"-e\", \"-a\"): 0.06,\n",
    "        (\"-b\", \"+e\", \"+a\"): 0.29,\n",
    "        (\"-b\", \"+e\", \"-a\"): 0.71,\n",
    "        (\"-b\", \"-e\", \"+a\"): 0.001,\n",
    "        (\"-b\", \"-e\", \"-a\"): 0.999,\n",
    "    }\n",
    "}"
   ]
  },
  {
   "cell_type": "markdown",
   "metadata": {},
   "source": [
    "This network, then, can be used to extract some useful information, such as posterior probability or most likely explanation, by computing joint probabilities. This process is called **inference**. For instance,\n",
    "\n",
    "$$\n",
    "\\begin{align*}\n",
    "P(B|+j,+m) &\\propto P(B,+j,+m) \\\\\n",
    "&= \\sum_{e, a}{P(B, 3, a, +j, +m)} \\\\\n",
    "&= \\sum_{e, a}{P(B)P(e)P(a|B,e)P(+j|a)P(+m|a)}\n",
    "\\end{align*}\n",
    "$$\n",
    "\n",
    "which will provide another CPT for $P(B|+j,+m)$ with two entries, $P(+b|+j,+m)$ and $P(-b|+j,+m)$."
   ]
  },
  {
   "cell_type": "code",
   "execution_count": 14,
   "metadata": {},
   "outputs": [
    {
     "name": "stdout",
     "output_type": "stream",
     "text": [
      "P(+b|+j,+m) = 0.0005922425899999999\n",
      "P(-b|+j,+m) = 0.001491857649\n"
     ]
    }
   ],
   "source": [
    "p0 = sum([P[\"B\"][\"+b\"] * P[\"E\"][e] * P[\"A|B,E\"][(\"+b\", e, a)] * P[\"J|A\"][(a, \"+j\")] * P[\"M|A\"][(a, \"+m\")] for e in [\"+e\", \"-e\"] for a in [\"+a\", \"-a\"]])\n",
    "p1 = sum([P[\"B\"][\"-b\"] * P[\"E\"][e] * P[\"A|B,E\"][(\"-b\", e, a)] * P[\"J|A\"][(a, \"+j\")] * P[\"M|A\"][(a, \"+m\")] for e in [\"+e\", \"-e\"] for a in [\"+a\", \"-a\"]])\n",
    "print(\"P(+b|+j,+m) =\", p0)\n",
    "print(\"P(-b|+j,+m) =\", p1)"
   ]
  },
  {
   "cell_type": "markdown",
   "metadata": {},
   "source": [
    "This way of inference is called **inference by enumeration**. Notice how much you have to expand the equation to compute something so simple? Even with a network this small, it's apparent that this method is quite slow. We need something better."
   ]
  }
 ],
 "metadata": {
  "kernelspec": {
   "display_name": "Python 3",
   "language": "python",
   "name": "python3"
  },
  "language_info": {
   "codemirror_mode": {
    "name": "ipython",
    "version": 3
   },
   "file_extension": ".py",
   "mimetype": "text/x-python",
   "name": "python",
   "nbconvert_exporter": "python",
   "pygments_lexer": "ipython3",
   "version": "3.6.3"
  }
 },
 "nbformat": 4,
 "nbformat_minor": 2
}
