{
 "cells": [
  {
   "cell_type": "markdown",
   "metadata": {},
   "source": [
    "# Dealing with Problems with Uncertainty\n",
    "Author: Jin Yeom (jinyeom@utexas.edu)\n",
    "\n",
    "In this notebook, we're going to explore AI methods based on the probability theory for solving problems with uncertainty. We'll first look at Bayesian Networks (or Belief Networks), Hidden Markov Models (HMMs), then finally Decision Networks. **Note**: this notebook is based on Dr. Scott Niekum's lecture on Artificial Intelligence (CS343) from the University of Texas at Austin. **Also note**: this notebook will assume some knowledge in the probability theory, and will not go over details in basic probability."
   ]
  },
  {
   "cell_type": "markdown",
   "metadata": {},
   "source": [
    "## Bayesian Network\n",
    "As the name suggests, the Bayesian network (BNs, or sometimes called belief network or Bayes nets) is based on Bayes' rule:\n",
    "\n",
    "$$P(X|Y) = \\frac{P(Y|X)P(X)}{P(Y)}$$\n",
    "\n",
    "where $X$ and $Y$ are both random variables. It is also called a network, due to its representation, i.e., all the possible events are represented as nodes in a directed acyclic graph with their likelihoods, and are connected with other based on assumed direct influences. Essentially, the network altogether models some part of the real world. We can use this network to compute unobserved relationships among events that seem independent, formally called conditional independence.\n",
    "\n",
    "Bayes nets are composed of the topology of the network, which is often designed by hand, and tables for local conditional probabilities (Conditional Probability Tables, or CPTs), computed from data of event counts. For this notebook, we're not going to construct a Bayes net, and use a hypothetical one, found in Dr. Niekum's lecture."
   ]
  },
  {
   "cell_type": "markdown",
   "metadata": {},
   "source": [
    "Let's look at a simple example. Consider 5 events $B = \\text{\\{Burglary\\}}$, $A = \\text{\\{Alarm goes off\\}}$, $M = \\text{\\{Mary calls\\}}$, $J = \\text{\\{John calls\\}}$, $E = \\text{\\{Earthquake!\\}}$."
   ]
  },
  {
   "cell_type": "code",
   "execution_count": 57,
   "metadata": {},
   "outputs": [
    {
     "data": {
      "image/png": "[encoded data removed]",
      "text/plain": [
       "<matplotlib.figure.Figure at 0x7fc7f04214a8>"
      ]
     },
     "metadata": {},
     "output_type": "display_data"
    }
   ],
   "source": [
    "import numpy as np\n",
    "import networkx as nx\n",
    "from matplotlib import pyplot as plt\n",
    "%matplotlib inline\n",
    "\n",
    "N = [\"B\", \"A\", \"M\", \"J\", \"E\"]\n",
    "E = [(\"B\", \"A\"), (\"E\", \"A\"), (\"A\", \"M\"), (\"A\", \"J\")]\n",
    "\n",
    "G = nx.DiGraph()\n",
    "G.add_nodes_from(N)\n",
    "G.add_edges_from(E)\n",
    "nx.draw(G, with_labels=True)\n",
    "plt.show()"
   ]
  },
  {
   "cell_type": "code",
   "execution_count": 60,
   "metadata": {},
   "outputs": [
    {
     "name": "stdout",
     "output_type": "stream",
     "text": [
      "P(+b, -e, +a, -j, +m) = 6.56684e-05\n"
     ]
    }
   ],
   "source": [
    "# Probabilities computed from observed data.\n",
    "# We know how often burglaries and earthquakes have happened, and that the alarm went off\n",
    "# every time either a burglary or an earthquake happened, and finally, that Mary or John\n",
    "# called when the alarm went off. All the occurances of events mentioned are recorded, and\n",
    "# were used to compute their probabilities.\n",
    "P = {\n",
    "    \"B\": {\n",
    "        \"+b\": 0.001,\n",
    "        \"-b\": 0.999,\n",
    "    },\n",
    "    \"E\": {\n",
    "        \"+e\": 0.002,\n",
    "        \"-e\": 0.998,\n",
    "    },\n",
    "    \"J|A\": {\n",
    "        (\"+a\", \"+j\"): 0.9,\n",
    "        (\"+a\", \"-j\"): 0.1,\n",
    "        (\"-a\", \"+j\"): 0.05,\n",
    "        (\"-a\", \"-j\"): 0.95,\n",
    "    },\n",
    "    \"M|A\": {\n",
    "        (\"+a\", \"+m\"): 0.7,\n",
    "        (\"+a\", \"-m\"): 0.3,\n",
    "        (\"-a\", \"+m\"): 0.01,\n",
    "        (\"-a\", \"-m\"): 0.99,\n",
    "    },\n",
    "    \"A|B,E\": {\n",
    "        (\"+b\", \"+e\", \"+a\"): 0.95,\n",
    "        (\"+b\", \"+e\", \"-a\"): 0.05,\n",
    "        (\"+b\", \"-e\", \"+a\"): 0.94,\n",
    "        (\"+b\", \"-e\", \"-a\"): 0.06,\n",
    "        (\"-b\", \"+e\", \"+a\"): 0.29,\n",
    "        (\"-b\", \"+e\", \"-a\"): 0.71,\n",
    "        (\"-b\", \"-e\", \"+a\"): 0.001,\n",
    "        (\"-b\", \"-e\", \"-a\"): 0.999,\n",
    "    }\n",
    "}\n",
    "\n",
    "# These tables can be used to compute previously unobserved probabilities.\n",
    "# For example, P(+b, -e, +a, -j, +m) = \n",
    "p = P[\"B\"][\"+b\"] * P[\"E\"][\"-e\"] * P[\"A|B,E\"][(\"+b\", \"-e\", \"+a\")] * P[\"J|A\"][(\"+a\", \"-j\")] * P[\"M|A\"][(\"+a\", \"+m\")]\n",
    "print(\"P(+b, -e, +a, -j, +m) =\", p)"
   ]
  },
  {
   "cell_type": "code",
   "execution_count": null,
   "metadata": {},
   "outputs": [],
   "source": []
  }
 ],
 "metadata": {
  "kernelspec": {
   "display_name": "Python 3",
   "language": "python",
   "name": "python3"
  },
  "language_info": {
   "codemirror_mode": {
    "name": "ipython",
    "version": 3
   },
   "file_extension": ".py",
   "mimetype": "text/x-python",
   "name": "python",
   "nbconvert_exporter": "python",
   "pygments_lexer": "ipython3",
   "version": "3.6.3"
  }
 },
 "nbformat": 4,
 "nbformat_minor": 2
}
